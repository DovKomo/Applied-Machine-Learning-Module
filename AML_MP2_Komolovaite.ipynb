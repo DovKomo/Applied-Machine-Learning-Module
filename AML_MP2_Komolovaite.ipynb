{
 "cells": [
  {
   "cell_type": "markdown",
   "metadata": {
    "id": "ccDPllcwTVza"
   },
   "source": [
    "# MP2: Deep Fast Fashion\n",
    "\n",
    "Date: 2020.11.22\n",
    "\n",
    "Author: © 2020 Dovilė Komolovaitė\n",
    "\n",
    "This notebook is part of an individual project for [KTU IF](https://fi.ktu.edu/)  [P176M010 Advanced Machine Learning](https://admissions.ktu.edu/programme/m-software-engineering/#P176M010) class led by [M. Lukoševičius](http://mantas.info/).\n",
    "\n",
    "The goal of this work is to create a deep learning model using [PyTorch](https://pytorch.org/), that is trained in under 3 minutes in [Google Colab](https://colab.research.google.com/) environment on [Fashion-MNIST](https://github.com/zalandoresearch/fashion-mnist) data, gives the best possible testing performance. \n",
    "\n",
    "This template is partially based on [this solution](\n",
    "https://medium.com/dair-ai/pytorch-1-2-quickstart-with-google-colab-6690a30c38d). \n",
    "\n",
    "You should select GPU in Google Colab: *Runtime -> Change runtime type -> Hardware accelerator: GPU*.\n",
    "\n",
    "The performance will be measured on *Tesla P100* graphics card which is the most popular in Google Colab machines, but you will not always get a machine with this GPU. Other GPUs: Tesla P4, Tesla T4 are similar in performance to P100 (slightly faster on average), and K80 is slower. The speed also varies slightly based on other factors, like the Colab cloud usage load.\n",
    "\n",
    "You should only eddit this notebook where it is allowed, comment on all of your improvements in markdown cells and in your presentation."
   ]
  },
  {
   "cell_type": "code",
   "execution_count": 93,
   "metadata": {
    "id": "3U0gT-G-zVvX"
   },
   "outputs": [],
   "source": [
    "import torch\n",
    "import torch.nn as nn\n",
    "import torch.nn.functional as F\n",
    "import torchvision\n",
    "import torchvision.transforms as transforms\n",
    "from torchsummary import summary\n",
    "import numpy as np"
   ]
  },
  {
   "cell_type": "markdown",
   "metadata": {
    "id": "lA3k3yPpGgOO"
   },
   "source": [
    "## Settings\n",
    "\n",
    "Do not eddit!\n",
    "\n",
    "On the reproducibility of experiments: https://pytorch.org/docs/stable/notes/randomness.html"
   ]
  },
  {
   "cell_type": "code",
   "execution_count": 94,
   "metadata": {
    "id": "s5dWi0-1TfWX"
   },
   "outputs": [],
   "source": [
    "## compute accuracy\n",
    "def get_accuracy(logit, target, batch_size):\n",
    "    ''' Obtain accuracy '''\n",
    "    corrects = (torch.max(logit, 1)[1].view(target.size()).data == target.data).sum()\n",
    "    accuracy = 1.0*corrects / batch_size\n",
    "    return accuracy.item()\n",
    "np.random.seed(42)\n",
    "torch.manual_seed(42)\n",
    "torch.backends.cudnn.deterministic = True\n",
    "torch.backends.cudnn.benchmark = False"
   ]
  },
  {
   "cell_type": "markdown",
   "metadata": {
    "id": "zj4Gac5npZdG"
   },
   "source": [
    "## Information on the obtained hardware"
   ]
  },
  {
   "cell_type": "code",
   "execution_count": 95,
   "metadata": {
    "colab": {
     "base_uri": "https://localhost:8080/"
    },
    "id": "tZCpG0E5pTL7",
    "outputId": "fc038168-0846-4799-99ea-d02df72c43a4",
    "scrolled": true
   },
   "outputs": [
    {
     "name": "stdout",
     "output_type": "stream",
     "text": [
      "Torch version: 1.7.0+cu101\n",
      "GPU: Tesla T4\n"
     ]
    }
   ],
   "source": [
    "print('Torch version: %s' %torch.__version__)\n",
    "if torch.cuda.is_available():\n",
    "    print('GPU: %s' %torch.cuda.get_device_name()) \n",
    "else:\n",
    "    print('GPU not available.')"
   ]
  },
  {
   "cell_type": "code",
   "execution_count": 96,
   "metadata": {
    "colab": {
     "base_uri": "https://localhost:8080/"
    },
    "id": "3osaZGtJnp_N",
    "outputId": "a0b64178-564f-48c8-912f-953a54617d33"
   },
   "outputs": [
    {
     "name": "stdout",
     "output_type": "stream",
     "text": [
      "Sun Nov 22 08:59:51 2020       \n",
      "+-----------------------------------------------------------------------------+\n",
      "| NVIDIA-SMI 455.38       Driver Version: 418.67       CUDA Version: 10.1     |\n",
      "|-------------------------------+----------------------+----------------------+\n",
      "| GPU  Name        Persistence-M| Bus-Id        Disp.A | Volatile Uncorr. ECC |\n",
      "| Fan  Temp  Perf  Pwr:Usage/Cap|         Memory-Usage | GPU-Util  Compute M. |\n",
      "|                               |                      |               MIG M. |\n",
      "|===============================+======================+======================|\n",
      "|   0  Tesla T4            Off  | 00000000:00:04.0 Off |                    0 |\n",
      "| N/A   61C    P0    31W /  70W |   1211MiB / 15079MiB |      0%      Default |\n",
      "|                               |                      |                 ERR! |\n",
      "+-------------------------------+----------------------+----------------------+\n",
      "                                                                               \n",
      "+-----------------------------------------------------------------------------+\n",
      "| Processes:                                                                  |\n",
      "|  GPU   GI   CI        PID   Type   Process name                  GPU Memory |\n",
      "|        ID   ID                                                   Usage      |\n",
      "|=============================================================================|\n",
      "|  No running processes found                                                 |\n",
      "+-----------------------------------------------------------------------------+\n"
     ]
    }
   ],
   "source": [
    "!nvidia-smi"
   ]
  },
  {
   "cell_type": "code",
   "execution_count": 97,
   "metadata": {
    "colab": {
     "base_uri": "https://localhost:8080/"
    },
    "id": "sy49tK5qnZsL",
    "outputId": "e6756829-e1bf-4a07-da32-13e9d2efc37b"
   },
   "outputs": [
    {
     "name": "stdout",
     "output_type": "stream",
     "text": [
      "Architecture:        x86_64\n",
      "CPU op-mode(s):      32-bit, 64-bit\n",
      "Byte Order:          Little Endian\n",
      "CPU(s):              2\n",
      "On-line CPU(s) list: 0,1\n",
      "Thread(s) per core:  2\n",
      "Core(s) per socket:  1\n",
      "Socket(s):           1\n",
      "NUMA node(s):        1\n",
      "Vendor ID:           GenuineIntel\n",
      "CPU family:          6\n",
      "Model:               79\n",
      "Model name:          Intel(R) Xeon(R) CPU @ 2.20GHz\n",
      "Stepping:            0\n",
      "CPU MHz:             2200.000\n",
      "BogoMIPS:            4400.00\n",
      "Hypervisor vendor:   KVM\n",
      "Virtualization type: full\n",
      "L1d cache:           32K\n",
      "L1i cache:           32K\n",
      "L2 cache:            256K\n",
      "L3 cache:            56320K\n",
      "NUMA node0 CPU(s):   0,1\n",
      "Flags:               fpu vme de pse tsc msr pae mce cx8 apic sep mtrr pge mca cmov pat pse36 clflush mmx fxsr sse sse2 ss ht syscall nx pdpe1gb rdtscp lm constant_tsc rep_good nopl xtopology nonstop_tsc cpuid tsc_known_freq pni pclmulqdq ssse3 fma cx16 pcid sse4_1 sse4_2 x2apic movbe popcnt aes xsave avx f16c rdrand hypervisor lahf_lm abm 3dnowprefetch invpcid_single ssbd ibrs ibpb stibp fsgsbase tsc_adjust bmi1 hle avx2 smep bmi2 erms invpcid rtm rdseed adx smap xsaveopt arat md_clear arch_capabilities\n"
     ]
    }
   ],
   "source": [
    "!lscpu"
   ]
  },
  {
   "cell_type": "markdown",
   "metadata": {
    "id": "9oW8SVm96LS4"
   },
   "source": [
    "## Import the data\n",
    "\n",
    "You can change the data transformations but not the splitting (50000:10000) between training and validation in this notebook. But you can use a different type of validation with this data in our other codes to find the best model and its hyper-parameters, as long as you don't touch testing data. "
   ]
  },
  {
   "cell_type": "code",
   "execution_count": 98,
   "metadata": {
    "colab": {
     "base_uri": "https://localhost:8080/"
    },
    "id": "2Qdkl01CUW6J",
    "outputId": "cd37c639-9e82-4598-b2d0-af5ebb6446a5"
   },
   "outputs": [
    {
     "data": {
      "text/plain": [
       "(50000, 10000)"
      ]
     },
     "execution_count": 98,
     "metadata": {
      "tags": []
     },
     "output_type": "execute_result"
    }
   ],
   "source": [
    "BATCH_SIZE = 32\n",
    "\n",
    "# transformations\n",
    "transform = transforms.Compose(\n",
    "    [transforms.ToTensor()])\n",
    "\n",
    "## download and load training dataset\n",
    "# do not change this!\n",
    "dataset = torchvision.datasets.FashionMNIST(root='./data', train=True,\n",
    "                                        download=True, transform=transform)\n",
    "trainset, validset = torch.utils.data.random_split(dataset, [50000,10000])\n",
    "\n",
    "trainloader = torch.utils.data.DataLoader(trainset, batch_size=BATCH_SIZE,\n",
    "                                          shuffle=True, num_workers=2)\n",
    "validloader = torch.utils.data.DataLoader(validset, batch_size=BATCH_SIZE,\n",
    "                                          shuffle=True, num_workers=2)\n",
    "\n",
    "len(trainset), len(validset) # 83% training, 17% testing"
   ]
  },
  {
   "cell_type": "markdown",
   "metadata": {
    "id": "Elo1XfAQ6i5A"
   },
   "source": [
    "### Show a couple of data points"
   ]
  },
  {
   "cell_type": "code",
   "execution_count": 99,
   "metadata": {
    "colab": {
     "base_uri": "https://localhost:8080/",
     "height": 220
    },
    "id": "r8BKYCX9Yz90",
    "outputId": "6cba86c8-a932-48cc-8fa3-b28295b29ddb"
   },
   "outputs": [
    {
     "data": {
      "image/png": "[encoded data removed]",
      "text/plain": [
       "<Figure size 432x288 with 1 Axes>"
      ]
     },
     "metadata": {
      "needs_background": "light",
      "tags": []
     },
     "output_type": "display_data"
    }
   ],
   "source": [
    "import matplotlib.pyplot as plt\n",
    "\n",
    "## functions to show an image\n",
    "def imshow(img):\n",
    "    #img = img / 2 + 0.5     # unnormalize\n",
    "    npimg = img.numpy()\n",
    "    plt.imshow(np.transpose(npimg, (1, 2, 0)))\n",
    "\n",
    "## get some random training images\n",
    "dataiter = iter(trainloader)\n",
    "images, labels = dataiter.next()\n",
    "\n",
    "## show images\n",
    "imshow(torchvision.utils.make_grid(images))"
   ]
  },
  {
   "cell_type": "markdown",
   "metadata": {
    "id": "V21TukzziSzN"
   },
   "source": [
    "## Report of the things tried and their validation results\n",
    "\n",
    "Replace the content of this cell with your short report on the different validation schemes, architectures, options for the layers, learning hyper parameters you tried and the results you got (training/validation error/accuracy). Give links to code / articles / posts you took ideas from. The code for these different ideas comes not here, but in a separate zip file.\n",
    "\n",
    "The results can be presented in Tables like this:\n",
    "\n",
    "|        Model        | Training accuracy | Validation accuracy |\n",
    "|---------------------|-------------------|---------------------|\n",
    "| initial given model |      0.9549       |       0.9070        |\n",
    "|   LeNet   |      0.9426        |      0.9100          |\n",
    "| LeNet5 |       0.9300       |       0.9036         |\n",
    "| My final model |      0.9672        |      0.9415         |\n",
    "\n",
    "More on formatting markdown: https://github.com/adam-p/markdown-here/wiki/Markdown-Cheatsheet"
   ]
  },
  {
   "cell_type": "markdown",
   "metadata": {
    "id": "s8seE9KV6zZE"
   },
   "source": [
    "## Create the best model\n",
    "\n",
    "You can go wild here!\n",
    "\n",
    "Give a short description of what you are doing here. "
   ]
  },
  {
   "cell_type": "code",
   "execution_count": 100,
   "metadata": {
    "colab": {
     "base_uri": "https://localhost:8080/"
    },
    "id": "D0GQoLDAQOI0",
    "outputId": "61059d24-40fc-4a68-cabb-96c52eb9ebdd"
   },
   "outputs": [
    {
     "name": "stdout",
     "output_type": "stream",
     "text": [
      "We have 32 images in each batch, which has 1 color channel and 28x28 pixel dimensions.\n",
      "We have 32 labels.\n"
     ]
    }
   ],
   "source": [
    "print(f'We have {images.shape[0]} images in each batch, which has {images.shape[1]} color channel and {images.shape[2]}x{images.shape[3]} pixel dimensions.')\n",
    "print(f'We have {labels.shape[0]} labels.')"
   ]
  },
  {
   "cell_type": "markdown",
   "metadata": {
    "id": "bb4f2qbDSsky"
   },
   "source": [
    "The model was developed through multiple trials and tests. \n",
    "The best performance was achieved as follows.\n",
    "\n",
    "**This is a Multi-Layer Neural Network.**\n",
    " - In each layer, 2D convolution is performed with a set number of in_channels and out_channels.\n",
    " - All hidden layers have Batch Normalization.\n",
    " - The Sigmoid function performed best for the activation function.\n",
    " - In the last step, the 2D max pooling is applied to obtain a smaller tensor and a control overfitting.\n",
    "\n",
    " "
   ]
  },
  {
   "cell_type": "markdown",
   "metadata": {
    "id": "8b9-xWFsdxb4"
   },
   "source": [
    "Finally, a function classifier was developed. Here I do the following:\n",
    "   - Pass data through Dropout to get zeroed random items. This helps with regularization.\n",
    "   - Apply a linear transformation.\n",
    "   - Apply batch normalization.\n",
    "   - Apply the Sigmoid function.\n",
    "   - Dropout some elements again.\n",
    "   - Apply the Softmax function to all columns.\n",
    "   - And apply a linear transformation to get fewer output features."
   ]
  },
  {
   "cell_type": "code",
   "execution_count": 101,
   "metadata": {
    "id": "wf3QePsseeOh"
   },
   "outputs": [],
   "source": [
    "class MyModel(nn.Module):\n",
    "  # Multi-Layer Neural Network:\n",
    "    def __init__(self):\n",
    "        super(MyModel, self).__init__()\n",
    "\n",
    "        self.layer_seq1 = nn.Sequential(\n",
    "            nn.Conv2d(1, 32, kernel_size=3, stride=1, padding=1),\n",
    "            nn.BatchNorm2d(32),\n",
    "            nn.Sigmoid()\n",
    "        )\n",
    "        self.layer_seq2 = nn.Sequential(\n",
    "            nn.Conv2d(32, 64, kernel_size=3, stride=1, padding=1),\n",
    "            nn.BatchNorm2d(64),\n",
    "            nn.Sigmoid(),\n",
    "            nn.MaxPool2d(kernel_size=2, stride=2),\n",
    "        )\n",
    "        self.layer_seq3 = nn.Sequential(\n",
    "            nn.Conv2d(64, 128, kernel_size=3, stride=1, padding=1),\n",
    "            nn.BatchNorm2d(128),\n",
    "            nn.Sigmoid(),\n",
    "            nn.MaxPool2d(kernel_size=2, stride=2),\n",
    "        )\n",
    "        self.layer_seq4 = nn.Sequential(\n",
    "            nn.Conv2d(128, 256, kernel_size=3, stride=1, padding=1),\n",
    "            nn.BatchNorm2d(256),\n",
    "            nn.Sigmoid(),\n",
    "            nn.MaxPool2d(kernel_size=2, stride=2),\n",
    "        )\n",
    "        self.classifier_layer = nn.Sequential(\n",
    "            nn.Dropout(p=0.25),\n",
    "            nn.Linear(256 * 3 * 3, 128),\n",
    "            nn.BatchNorm1d(128),\n",
    "            nn.Sigmoid(),\n",
    "            nn.Dropout(p=0.25),\n",
    "            nn.Softmax(dim=1),\n",
    "            nn.Linear(128, 10)\n",
    "        )\n",
    "\n",
    "    def forward(self, x):\n",
    "        x = self.layer_seq1(x)\n",
    "        x = self.layer_seq2(x)\n",
    "        x = self.layer_seq3(x)\n",
    "        x = self.layer_seq4(x)\n",
    "        out = x.view(x.size(0), -1)\n",
    "        out = self.classifier_layer(out)\n",
    "        return out"
   ]
  },
  {
   "cell_type": "markdown",
   "metadata": {
    "id": "l7TaMT-D7FcN"
   },
   "source": [
    "### Learning parameters\n",
    "\n",
    "You have a freedom here. But the model should stay the `model`. And the `num_epochs` should be such that training should not exceed 3 minutes on Tesla T100."
   ]
  },
  {
   "cell_type": "markdown",
   "metadata": {
    "id": "G4Itn0fL4-G6"
   },
   "source": [
    "I wrote an adjusted learning rate function here. This function recalculates the learning rate in each epoch. This is important because too large learning rate might lead to local optimum, and too small may result in a long training process."
   ]
  },
  {
   "cell_type": "code",
   "execution_count": 102,
   "metadata": {
    "id": "_yUowEH4xMOP"
   },
   "outputs": [],
   "source": [
    "def adjust_learning_rate(optimizer, epoch):\n",
    "    lr = 0.01\n",
    "\n",
    "    if epoch > 6:\n",
    "        lr = lr / 10\n",
    "    elif epoch > 5:\n",
    "        lr = lr / 25\n",
    "    elif epoch > 3:\n",
    "        lr = lr / 2\n",
    "\n",
    "    for param_group in optimizer.param_groups:\n",
    "        param_group[\"lr\"] = lr"
   ]
  },
  {
   "cell_type": "code",
   "execution_count": 103,
   "metadata": {
    "id": "uEAQU3aVfCyJ"
   },
   "outputs": [],
   "source": [
    "learning_rate = 0.01\n",
    "num_epochs = 10 \n",
    "\n",
    "device = torch.device(\"cuda:0\" if torch.cuda.is_available() else \"cpu\")\n",
    "model = MyModel()\n",
    "model = model.to(device)\n",
    "criterion = nn.CrossEntropyLoss()\n",
    "optimizer = torch.optim.Adam(model.parameters(), lr=learning_rate)"
   ]
  },
  {
   "cell_type": "markdown",
   "metadata": {
    "id": "JdK6UKXX8A4Z"
   },
   "source": [
    "## Train\n",
    "\n",
    "Do not edit! The training is only happening here."
   ]
  },
  {
   "cell_type": "code",
   "execution_count": 104,
   "metadata": {
    "colab": {
     "base_uri": "https://localhost:8080/"
    },
    "id": "Mm0eXKPTfDwm",
    "outputId": "73560941-82c6-461c-f2cc-052bf9bbc3f4",
    "scrolled": true
   },
   "outputs": [
    {
     "name": "stdout",
     "output_type": "stream",
     "text": [
      "learning rate: 0.01\n",
      "Epoch: 0 | Loss: 1.2604 | Train Accuracy: 0.7102 | Validation Accuracy: 0.8208\n",
      "learning rate: 0.01\n",
      "Epoch: 1 | Loss: 0.5596 | Train Accuracy: 0.8672 | Validation Accuracy: 0.8955\n",
      "learning rate: 0.01\n",
      "Epoch: 2 | Loss: 0.3556 | Train Accuracy: 0.9060 | Validation Accuracy: 0.9133\n",
      "learning rate: 0.01\n",
      "Epoch: 3 | Loss: 0.2716 | Train Accuracy: 0.9202 | Validation Accuracy: 0.9265\n",
      "learning rate: 0.005\n",
      "Epoch: 4 | Loss: 0.2248 | Train Accuracy: 0.9303 | Validation Accuracy: 0.9287\n",
      "learning rate: 0.005\n",
      "Epoch: 5 | Loss: 0.1807 | Train Accuracy: 0.9451 | Validation Accuracy: 0.9346\n",
      "learning rate: 0.0004\n",
      "Epoch: 6 | Loss: 0.1584 | Train Accuracy: 0.9516 | Validation Accuracy: 0.9345\n",
      "learning rate: 0.001\n",
      "Epoch: 7 | Loss: 0.1315 | Train Accuracy: 0.9619 | Validation Accuracy: 0.9394\n",
      "learning rate: 0.001\n",
      "Epoch: 8 | Loss: 0.1251 | Train Accuracy: 0.9643 | Validation Accuracy: 0.9402\n",
      "learning rate: 0.001\n",
      "Epoch: 9 | Loss: 0.1182 | Train Accuracy: 0.9672 | Validation Accuracy: 0.9415\n",
      "Training time: 173973.70 ms (max 180000 ms.)\n"
     ]
    }
   ],
   "source": [
    "# timing. do not alter!\n",
    "start_timer = torch.cuda.Event(enable_timing=True)\n",
    "end_timer = torch.cuda.Event(enable_timing=True)\n",
    "start_timer.record()\n",
    "\n",
    "# training stats\n",
    "trainlosses = np.zeros(num_epochs)\n",
    "trainaccs = np.zeros(num_epochs)\n",
    "validaccs = np.zeros(num_epochs)\n",
    "\n",
    "for epoch in range(num_epochs):\n",
    "    train_running_loss = 0.0\n",
    "    train_acc = 0.0\n",
    "\n",
    "    model = model.train()\n",
    "\n",
    "    ## training step\n",
    "    for i, (images, labels) in enumerate(trainloader):\n",
    "        \n",
    "        images = images.to(device)\n",
    "        labels = labels.to(device)\n",
    "\n",
    "        ## forward + backprop + loss\n",
    "        logits = model(images)\n",
    "        loss = criterion(logits, labels)\n",
    "        optimizer.zero_grad()\n",
    "        loss.backward()\n",
    "\n",
    "        ## update model params\n",
    "        optimizer.step()\n",
    "\n",
    "        train_running_loss += loss.detach().item()\n",
    "        train_acc += get_accuracy(logits, labels, BATCH_SIZE)\n",
    "\n",
    "    # the learning rate adjustment function (updated)\n",
    "    adjust_learning_rate(optimizer, epoch)\n",
    "\n",
    "    model.eval()\n",
    "    train_running_loss /= len(trainloader)\n",
    "    train_acc /= len(trainloader)\n",
    "\n",
    "    valid_acc = 0.0\n",
    "    for i, (images, labels) in enumerate(validloader, 0):\n",
    "        images = images.to(device)\n",
    "        labels = labels.to(device)\n",
    "        outputs = model(images)\n",
    "        valid_acc += get_accuracy(outputs, labels, BATCH_SIZE)\n",
    "    \n",
    "    valid_acc /= len(validloader)\n",
    "    print(f'learning rate: {optimizer.param_groups[0][\"lr\"]}')\n",
    "    print('Epoch: %d | Loss: %.4f | Train Accuracy: %.4f | Validation Accuracy: %.4f' \\\n",
    "          %(epoch, train_running_loss, train_acc, valid_acc)) \n",
    "            \n",
    "    trainlosses[epoch] = train_running_loss\n",
    "    trainaccs[epoch] = train_acc\n",
    "    validaccs[epoch] = valid_acc\n",
    "\n",
    "# timing. do not alter!\n",
    "end_timer.record()\n",
    "torch.cuda.synchronize()\n",
    "elapsed_time = start_timer.elapsed_time(end_timer)\n",
    "max_training_time = 3*60*1000\n",
    "print('Training time: %.2f ms (max %i ms.)' %(elapsed_time,max_training_time))  \n",
    "assert elapsed_time <= max_training_time, 'Training is too long!'"
   ]
  },
  {
   "cell_type": "markdown",
   "metadata": {
    "id": "yGWoIz71zVwY"
   },
   "source": [
    "Plot training loss, training and validation accuracy over training epochs."
   ]
  },
  {
   "cell_type": "code",
   "execution_count": 105,
   "metadata": {
    "colab": {
     "base_uri": "https://localhost:8080/",
     "height": 623
    },
    "id": "Y58sO6t1O7ZL",
    "outputId": "5e3813ff-14e8-4130-e4b9-34b833006fd2"
   },
   "outputs": [
    {
     "data": {
      "text/plain": [
       "<matplotlib.legend.Legend at 0x7fc8a201c278>"
      ]
     },
     "execution_count": 105,
     "metadata": {
      "tags": []
     },
     "output_type": "execute_result"
    },
    {
     "data": {
      "image/png": "[encoded data removed]",
      "text/plain": [
       "<Figure size 720x720 with 2 Axes>"
      ]
     },
     "metadata": {
      "needs_background": "light",
      "tags": []
     },
     "output_type": "display_data"
    }
   ],
   "source": [
    "plt.figure(figsize=(10,10))\n",
    "plt.subplot(2,1,1)\n",
    "plt.plot(trainlosses)\n",
    "plt.legend(['Training loss']) \n",
    "plt.subplot(2,1,2)\n",
    "plt.plot(trainaccs)\n",
    "plt.plot(validaccs)\n",
    "plt.xlabel('Training epochs')\n",
    "plt.legend(['Training accuray','Validation accuray'])"
   ]
  },
  {
   "cell_type": "code",
   "execution_count": 106,
   "metadata": {
    "colab": {
     "base_uri": "https://localhost:8080/"
    },
    "id": "EUeV1DF-_d6n",
    "outputId": "94a77997-0ab2-4c89-95de-3550833cc684"
   },
   "outputs": [
    {
     "name": "stdout",
     "output_type": "stream",
     "text": [
      "----------------------------------------------------------------\n",
      "        Layer (type)               Output Shape         Param #\n",
      "================================================================\n",
      "            Conv2d-1           [-1, 32, 28, 28]             320\n",
      "       BatchNorm2d-2           [-1, 32, 28, 28]              64\n",
      "           Sigmoid-3           [-1, 32, 28, 28]               0\n",
      "            Conv2d-4           [-1, 64, 28, 28]          18,496\n",
      "       BatchNorm2d-5           [-1, 64, 28, 28]             128\n",
      "           Sigmoid-6           [-1, 64, 28, 28]               0\n",
      "         MaxPool2d-7           [-1, 64, 14, 14]               0\n",
      "            Conv2d-8          [-1, 128, 14, 14]          73,856\n",
      "       BatchNorm2d-9          [-1, 128, 14, 14]             256\n",
      "          Sigmoid-10          [-1, 128, 14, 14]               0\n",
      "        MaxPool2d-11            [-1, 128, 7, 7]               0\n",
      "           Conv2d-12            [-1, 256, 7, 7]         295,168\n",
      "      BatchNorm2d-13            [-1, 256, 7, 7]             512\n",
      "          Sigmoid-14            [-1, 256, 7, 7]               0\n",
      "        MaxPool2d-15            [-1, 256, 3, 3]               0\n",
      "          Dropout-16                 [-1, 2304]               0\n",
      "           Linear-17                  [-1, 128]         295,040\n",
      "      BatchNorm1d-18                  [-1, 128]             256\n",
      "          Sigmoid-19                  [-1, 128]               0\n",
      "          Dropout-20                  [-1, 128]               0\n",
      "          Softmax-21                  [-1, 128]               0\n",
      "           Linear-22                   [-1, 10]           1,290\n",
      "================================================================\n",
      "Total params: 685,386\n",
      "Trainable params: 685,386\n",
      "Non-trainable params: 0\n",
      "----------------------------------------------------------------\n",
      "Input size (MB): 0.00\n",
      "Forward/backward pass size (MB): 2.77\n",
      "Params size (MB): 2.61\n",
      "Estimated Total Size (MB): 5.39\n",
      "----------------------------------------------------------------\n"
     ]
    }
   ],
   "source": [
    "summary(model, (1, 28, 28))"
   ]
  },
  {
   "cell_type": "code",
   "execution_count": 106,
   "metadata": {
    "id": "YFmM94Xs0MjR"
   },
   "outputs": [],
   "source": []
  }
 ],
 "metadata": {
  "accelerator": "GPU",
  "colab": {
   "collapsed_sections": [],
   "name": "AML_MP2_Komolovaite.ipynb",
   "provenance": []
  },
  "kernelspec": {
   "display_name": "Python 3",
   "language": "python",
   "name": "python3"
  },
  "language_info": {
   "codemirror_mode": {
    "name": "ipython",
    "version": 3
   },
   "file_extension": ".py",
   "mimetype": "text/x-python",
   "name": "python",
   "nbconvert_exporter": "python",
   "pygments_lexer": "ipython3",
   "version": "3.8.6"
  },
  "toc": {
   "base_numbering": 1,
   "nav_menu": {},
   "number_sections": true,
   "sideBar": true,
   "skip_h1_title": false,
   "title_cell": "Table of Contents",
   "title_sidebar": "Contents",
   "toc_cell": false,
   "toc_position": {},
   "toc_section_display": true,
   "toc_window_display": false
  }
 },
 "nbformat": 4,
 "nbformat_minor": 1
}
